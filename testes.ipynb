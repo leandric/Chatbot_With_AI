{
 "cells": [
  {
   "cell_type": "code",
   "execution_count": 1,
   "metadata": {},
   "outputs": [],
   "source": [
    "import os\n",
    "import openai\n",
    "from dotenv import load_dotenv, find_dotenv\n",
    "\n",
    "_ = load_dotenv(find_dotenv())\n",
    "\n",
    "OPENAI_KEY = os.getenv('OPENAI_API_KEY')"
   ]
  },
  {
   "cell_type": "markdown",
   "metadata": {},
   "source": [
    "# Mensagem de teste da API"
   ]
  },
  {
   "cell_type": "code",
   "execution_count": 2,
   "metadata": {},
   "outputs": [],
   "source": [
    "def retorno_resposta(messages, \n",
    "                     openai_key,\n",
    "                     model='gpt-3.5-turbo',\n",
    "                     temperature=0,\n",
    "                     stream=False):\n",
    "    openai.api_key = openai_key\n",
    "    response = openai.ChatCompletion.create(\n",
    "        model=model,\n",
    "        messages=messages,\n",
    "        temperature=temperature,\n",
    "        stream=stream\n",
    "    )\n",
    "    return response\n"
   ]
  },
  {
   "cell_type": "code",
   "execution_count": 10,
   "metadata": {},
   "outputs": [
    {
     "data": {
      "text/plain": [
       "<OpenAIObject chat.completion id=chatcmpl-8jGs8do9aujNhxwiPt0EVaNZCglkd at 0x1dc7f4b40f0> JSON: {\n",
       "  \"id\": \"chatcmpl-8jGs8do9aujNhxwiPt0EVaNZCglkd\",\n",
       "  \"object\": \"chat.completion\",\n",
       "  \"created\": 1705800308,\n",
       "  \"model\": \"gpt-3.5-turbo-0613\",\n",
       "  \"choices\": [\n",
       "    {\n",
       "      \"index\": 0,\n",
       "      \"message\": {\n",
       "        \"role\": \"assistant\",\n",
       "        \"content\": \"1. Persist\\u00eancia\\n2. Determina\\u00e7\\u00e3o\\n3. Coragem\\n4. Foco\\n5. Sucesso\"\n",
       "      },\n",
       "      \"logprobs\": null,\n",
       "      \"finish_reason\": \"stop\"\n",
       "    }\n",
       "  ],\n",
       "  \"usage\": {\n",
       "    \"prompt_tokens\": 17,\n",
       "    \"completion_tokens\": 24,\n",
       "    \"total_tokens\": 41\n",
       "  },\n",
       "  \"system_fingerprint\": null\n",
       "}"
      ]
     },
     "execution_count": 10,
     "metadata": {},
     "output_type": "execute_result"
    }
   ],
   "source": [
    "mensagens = [{'role':'user', 'content':'diga 5 palavras de motivação'}]\n",
    "response = retorno_resposta(mensagens, openai_key=OPENAI_KEY)\n",
    "response"
   ]
  },
  {
   "cell_type": "code",
   "execution_count": 9,
   "metadata": {},
   "outputs": [
    {
     "data": {
      "text/plain": [
       "'1. Persistência\\n2. Determinação\\n3. Coragem\\n4. Foco\\n5. Sucesso'"
      ]
     },
     "execution_count": 9,
     "metadata": {},
     "output_type": "execute_result"
    }
   ],
   "source": [
    "response.choices[0]['message']['content']"
   ]
  },
  {
   "cell_type": "markdown",
   "metadata": {},
   "source": [
    "# Adicionando respostas"
   ]
  },
  {
   "cell_type": "code",
   "execution_count": 11,
   "metadata": {},
   "outputs": [
    {
     "data": {
      "text/plain": [
       "[{'role': 'user', 'content': 'diga 5 palavras de motivação'},\n",
       " {'role': 'assistant',\n",
       "  'content': '1. Persistência\\n2. Determinação\\n3. Coragem\\n4. Foco\\n5. Sucesso'}]"
      ]
     },
     "execution_count": 11,
     "metadata": {},
     "output_type": "execute_result"
    }
   ],
   "source": [
    "mensagens.append({'role':'assistant', 'content':response.choices[0]['message']['content']})\n",
    "mensagens"
   ]
  },
  {
   "cell_type": "code",
   "execution_count": 12,
   "metadata": {},
   "outputs": [
    {
     "data": {
      "text/plain": [
       "[{'role': 'user', 'content': 'diga 5 palavras de motivação'},\n",
       " {'role': 'assistant',\n",
       "  'content': '1. Persistência\\n2. Determinação\\n3. Coragem\\n4. Foco\\n5. Sucesso'},\n",
       " {'role': 'user',\n",
       "  'content': 'qual dessa palavras tu acha melhor? (responda apenas a palavra apenas a palavra)'}]"
      ]
     },
     "execution_count": 12,
     "metadata": {},
     "output_type": "execute_result"
    }
   ],
   "source": [
    "mensagens.append({'role':'user', 'content':'qual dessa palavras tu acha melhor? (responda apenas a palavra apenas a palavra)'})\n",
    "mensagens"
   ]
  },
  {
   "cell_type": "code",
   "execution_count": 13,
   "metadata": {},
   "outputs": [
    {
     "data": {
      "text/plain": [
       "<OpenAIObject chat.completion id=chatcmpl-8jGveh4xahuNKeWeVlGiBOw45Aeye at 0x1dc7f4b42d0> JSON: {\n",
       "  \"id\": \"chatcmpl-8jGveh4xahuNKeWeVlGiBOw45Aeye\",\n",
       "  \"object\": \"chat.completion\",\n",
       "  \"created\": 1705800526,\n",
       "  \"model\": \"gpt-3.5-turbo-0613\",\n",
       "  \"choices\": [\n",
       "    {\n",
       "      \"index\": 0,\n",
       "      \"message\": {\n",
       "        \"role\": \"assistant\",\n",
       "        \"content\": \"Foco.\"\n",
       "      },\n",
       "      \"logprobs\": null,\n",
       "      \"finish_reason\": \"stop\"\n",
       "    }\n",
       "  ],\n",
       "  \"usage\": {\n",
       "    \"prompt_tokens\": 69,\n",
       "    \"completion_tokens\": 3,\n",
       "    \"total_tokens\": 72\n",
       "  },\n",
       "  \"system_fingerprint\": null\n",
       "}"
      ]
     },
     "execution_count": 13,
     "metadata": {},
     "output_type": "execute_result"
    }
   ],
   "source": [
    "response = retorno_resposta(mensagens, openai_key=OPENAI_KEY)\n",
    "response"
   ]
  },
  {
   "cell_type": "code",
   "execution_count": 14,
   "metadata": {},
   "outputs": [
    {
     "data": {
      "text/plain": [
       "'Foco.'"
      ]
     },
     "execution_count": 14,
     "metadata": {},
     "output_type": "execute_result"
    }
   ],
   "source": [
    "response.choices[0]['message']['content']"
   ]
  },
  {
   "cell_type": "markdown",
   "metadata": {},
   "source": [
    "# Recebendo uma Stream de Respostas"
   ]
  },
  {
   "cell_type": "code",
   "execution_count": 17,
   "metadata": {},
   "outputs": [
    {
     "name": "stdout",
     "output_type": "stream",
     "text": [
      "Nova resposta >> {\n",
      "  \"index\": 0,\n",
      "  \"delta\": {\n",
      "    \"role\": \"assistant\",\n",
      "    \"content\": \"\"\n",
      "  },\n",
      "  \"logprobs\": null,\n",
      "  \"finish_reason\": null\n",
      "}\n",
      "Nova resposta >> {\n",
      "  \"index\": 0,\n",
      "  \"delta\": {\n",
      "    \"content\": \"F\"\n",
      "  },\n",
      "  \"logprobs\": null,\n",
      "  \"finish_reason\": null\n",
      "}\n",
      "Nova resposta >> {\n",
      "  \"index\": 0,\n",
      "  \"delta\": {\n",
      "    \"content\": \"oco\"\n",
      "  },\n",
      "  \"logprobs\": null,\n",
      "  \"finish_reason\": null\n",
      "}\n",
      "Nova resposta >> {\n",
      "  \"index\": 0,\n",
      "  \"delta\": {\n",
      "    \"content\": \".\"\n",
      "  },\n",
      "  \"logprobs\": null,\n",
      "  \"finish_reason\": null\n",
      "}\n",
      "Nova resposta >> {\n",
      "  \"index\": 0,\n",
      "  \"delta\": {},\n",
      "  \"logprobs\": null,\n",
      "  \"finish_reason\": \"stop\"\n",
      "}\n"
     ]
    }
   ],
   "source": [
    "response = retorno_resposta(mensagens, openai_key=OPENAI_KEY, stream=True)\n",
    "for resposta in response:\n",
    "    print('Nova resposta >>', resposta.choices[0])"
   ]
  },
  {
   "cell_type": "markdown",
   "metadata": {},
   "source": [
    "Ao ativar a opção de streaming, possibilitamos a recepção contínua de várias respostas enquanto a inteligência artificial as gera. Isso resulta em uma experiência mais fluida e agradável para o usuário, uma vez que não é necessário esperar a geração completa da resposta para exibi-la em tela."
   ]
  },
  {
   "cell_type": "code",
   "execution_count": null,
   "metadata": {},
   "outputs": [],
   "source": []
  },
  {
   "cell_type": "code",
   "execution_count": null,
   "metadata": {},
   "outputs": [],
   "source": []
  }
 ],
 "metadata": {
  "kernelspec": {
   "display_name": "venv",
   "language": "python",
   "name": "python3"
  },
  "language_info": {
   "codemirror_mode": {
    "name": "ipython",
    "version": 3
   },
   "file_extension": ".py",
   "mimetype": "text/x-python",
   "name": "python",
   "nbconvert_exporter": "python",
   "pygments_lexer": "ipython3",
   "version": "3.12.1"
  }
 },
 "nbformat": 4,
 "nbformat_minor": 2
}
